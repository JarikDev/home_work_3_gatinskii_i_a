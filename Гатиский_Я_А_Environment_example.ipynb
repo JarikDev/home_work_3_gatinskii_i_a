{
  "nbformat": 4,
  "nbformat_minor": 0,
  "metadata": {
    "colab": {
      "provenance": [],
      "include_colab_link": true
    },
    "kernelspec": {
      "name": "python3",
      "display_name": "Python 3"
    },
    "language_info": {
      "name": "python"
    }
  },
  "cells": [
    {
      "cell_type": "markdown",
      "metadata": {
        "id": "view-in-github",
        "colab_type": "text"
      },
      "source": [
        "<a href=\"https://colab.research.google.com/github/JarikDev/home_work_3_gatinskii_i_a/blob/main/%D0%93%D0%B0%D1%82%D0%B8%D1%81%D0%BA%D0%B8%D0%B9_%D0%AF_%D0%90_Environment_example.ipynb\" target=\"_parent\"><img src=\"https://colab.research.google.com/assets/colab-badge.svg\" alt=\"Open In Colab\"/></a>"
      ]
    },
    {
      "cell_type": "code",
      "execution_count": 1,
      "metadata": {
        "id": "MXXTuy_o0sjk",
        "colab": {
          "base_uri": "https://localhost:8080/"
        },
        "outputId": "90411f4b-704a-4848-ee9a-5dd505f8ee55"
      },
      "outputs": [
        {
          "output_type": "stream",
          "name": "stdout",
          "text": [
            "\u001b[?25l     \u001b[90m━━━━━━━━━━━━━━━━━━━━━━━━━━━━━━━━━━━━━━━━\u001b[0m \u001b[32m0.0/134.1 kB\u001b[0m \u001b[31m?\u001b[0m eta \u001b[36m-:--:--\u001b[0m\r\u001b[2K     \u001b[90m━━━━━━━━━━━━━━━━━━━━━━━━━━━━━━━━━━━━━━━━\u001b[0m \u001b[32m134.1/134.1 kB\u001b[0m \u001b[31m5.2 MB/s\u001b[0m eta \u001b[36m0:00:00\u001b[0m\n",
            "\u001b[?25h  Preparing metadata (setup.py) ... \u001b[?25l\u001b[?25hdone\n",
            "\u001b[2K   \u001b[90m━━━━━━━━━━━━━━━━━━━━━━━━━━━━━━━━━━━━━━━━\u001b[0m \u001b[32m1.3/1.3 MB\u001b[0m \u001b[31m13.7 MB/s\u001b[0m eta \u001b[36m0:00:00\u001b[0m\n",
            "\u001b[2K   \u001b[90m━━━━━━━━━━━━━━━━━━━━━━━━━━━━━━━━━━━━━━━━\u001b[0m \u001b[32m953.8/953.8 kB\u001b[0m \u001b[31m29.6 MB/s\u001b[0m eta \u001b[36m0:00:00\u001b[0m\n",
            "\u001b[2K   \u001b[90m━━━━━━━━━━━━━━━━━━━━━━━━━━━━━━━━━━━━━━━━\u001b[0m \u001b[32m840.2/840.2 kB\u001b[0m \u001b[31m26.7 MB/s\u001b[0m eta \u001b[36m0:00:00\u001b[0m\n",
            "\u001b[2K   \u001b[90m━━━━━━━━━━━━━━━━━━━━━━━━━━━━━━━━━━━━━━━━\u001b[0m \u001b[32m178.7/178.7 kB\u001b[0m \u001b[31m6.9 MB/s\u001b[0m eta \u001b[36m0:00:00\u001b[0m\n",
            "\u001b[?25h  Building wheel for vec-noise (setup.py) ... \u001b[?25l\u001b[?25hdone\n"
          ]
        }
      ],
      "source": [
        "!pip install -q -U kaggle_environments"
      ]
    },
    {
      "cell_type": "code",
      "source": [
        "import numpy as np\n",
        "import pandas as pd\n",
        "import random\n",
        "\n",
        "import matplotlib.pyplot as plt\n",
        "import seaborn as sns\n",
        "\n",
        "from kaggle_environments import make, evaluate"
      ],
      "metadata": {
        "id": "yz23vWHD0wcj"
      },
      "execution_count": 2,
      "outputs": []
    },
    {
      "cell_type": "markdown",
      "source": [
        "Опишем поведение агента, всегда играющего \"камень\" - это значение 0"
      ],
      "metadata": {
        "id": "0kuo6IOxiRub"
      }
    },
    {
      "cell_type": "code",
      "source": [
        "%%writefile rock_agent.py\n",
        "\n",
        "#Example of the simple agent\n",
        "#0 - rock\n",
        "#1 - paper\n",
        "#2 - scissors\n",
        "def your_agent(observation, configuration):\n",
        "    return 0"
      ],
      "metadata": {
        "id": "bqTqV7B92rJ6",
        "colab": {
          "base_uri": "https://localhost:8080/"
        },
        "outputId": "6aa194a8-9545-41ad-fa5e-2d6e9800e712"
      },
      "execution_count": null,
      "outputs": [
        {
          "output_type": "stream",
          "name": "stdout",
          "text": [
            "Writing rock_agent.py\n"
          ]
        }
      ]
    },
    {
      "cell_type": "markdown",
      "source": [
        "Попробуем теперь использовать информацию о прошлых действиях противника. Опишем агента, который производит то же самое действие, что и оппонент на прошлом ходу"
      ],
      "metadata": {
        "id": "et1J5hUGigeh"
      }
    },
    {
      "cell_type": "code",
      "source": [
        "%%writefile copy_opponent.py\n",
        "\n",
        "#Example\n",
        "def copy_opponent(observation, configuration):\n",
        "    #in case we have information about opponent last move\n",
        "    if observation.step > 0:\n",
        "        return observation.lastOpponentAction\n",
        "    #initial step\n",
        "    else:\n",
        "        return random.randrange(0, configuration.signs)"
      ],
      "metadata": {
        "id": "7l6Ttw6qi0jk",
        "colab": {
          "base_uri": "https://localhost:8080/"
        },
        "outputId": "9f3a0747-53fe-4bbc-fe7e-43220f25e333"
      },
      "execution_count": null,
      "outputs": [
        {
          "output_type": "stream",
          "name": "stdout",
          "text": [
            "Writing copy_opponent.py\n"
          ]
        }
      ]
    },
    {
      "cell_type": "markdown",
      "source": [
        "Воспользуемся функцией evaluate из библиотеки kaggle_environments с помощью которой запустим наших агентов и проведем эксперимент на заданном количестве игр"
      ],
      "metadata": {
        "id": "ExgIpXUVjbjN"
      }
    },
    {
      "cell_type": "code",
      "source": [
        "evaluate(\n",
        "    \"rps\", #environment to use - no need to change\n",
        "    [\"rock_agent.py\", \"copy_opponent.py\"], #agents to evaluate\n",
        "    configuration={\"episodeSteps\": 100} #number of episodes\n",
        ")"
      ],
      "metadata": {
        "id": "wv6Ip6M004xa",
        "colab": {
          "base_uri": "https://localhost:8080/"
        },
        "outputId": "b3c8876c-11f7-4f91-9565-887a24d3e578"
      },
      "execution_count": null,
      "outputs": [
        {
          "output_type": "execute_result",
          "data": {
            "text/plain": [
              "[[1, None]]"
            ]
          },
          "metadata": {},
          "execution_count": 5
        }
      ]
    },
    {
      "cell_type": "code",
      "source": [
        "evaluate(\n",
        "    \"rps\", #environment to use - no need to change\n",
        "    [\"rock_agent.py\", \"paper\"], #agents to evaluate\n",
        "    configuration={\"episodeSteps\": 100} #number of episodes\n",
        ")"
      ],
      "metadata": {
        "id": "FC6_QWe9k3rr",
        "colab": {
          "base_uri": "https://localhost:8080/"
        },
        "outputId": "c1aa03dc-c65e-4e6c-a83a-124798daf7c2"
      },
      "execution_count": null,
      "outputs": [
        {
          "output_type": "execute_result",
          "data": {
            "text/plain": [
              "[[-99.0, 99.0]]"
            ]
          },
          "metadata": {},
          "execution_count": 6
        }
      ]
    },
    {
      "cell_type": "markdown",
      "source": [
        "1 агент который всегда отдаёт камень\n"
      ],
      "metadata": {
        "id": "_dG1nIKFNZF9"
      }
    },
    {
      "cell_type": "code",
      "source": [
        "%%writefile agent_stone.py\n",
        "# 1 агент который всегда отдаёт камень\n",
        "def agent_stone(observation, configuration):\n",
        "    return 0"
      ],
      "metadata": {
        "id": "T_pQKui1Nbu-",
        "colab": {
          "base_uri": "https://localhost:8080/"
        },
        "outputId": "93f697ab-5493-4da3-b62f-01aba0de50a7"
      },
      "execution_count": 3,
      "outputs": [
        {
          "output_type": "stream",
          "name": "stdout",
          "text": [
            "Writing agent_stone.py\n"
          ]
        },
        {
          "output_type": "stream",
          "name": "stderr",
          "text": [
            "/usr/local/lib/python3.10/dist-packages/ipykernel/ipkernel.py:283: DeprecationWarning: `should_run_async` will not call `transform_cell` automatically in the future. Please pass the result to `transformed_cell` argument and any exception that happen during thetransform in `preprocessing_exc_tuple` in IPython 7.17 and above.\n",
            "  and should_run_async(code)\n"
          ]
        }
      ]
    },
    {
      "cell_type": "markdown",
      "source": [
        "2 агент который всегда отдаёт бумагу\n"
      ],
      "metadata": {
        "id": "CoSBMBW1Nv5S"
      }
    },
    {
      "cell_type": "code",
      "source": [
        "%%writefile agent_paper.py\n",
        "# 2 агент который всегда отдаёт бумагу\n",
        "def agent_paper(observation, configuration):\n",
        "    return 1"
      ],
      "metadata": {
        "id": "1O1jNp9EN3XF",
        "colab": {
          "base_uri": "https://localhost:8080/"
        },
        "outputId": "707bb772-31da-4316-fd92-ecbea5ace1c2"
      },
      "execution_count": 4,
      "outputs": [
        {
          "output_type": "stream",
          "name": "stdout",
          "text": [
            "Writing agent_paper.py\n"
          ]
        }
      ]
    },
    {
      "cell_type": "markdown",
      "source": [
        "3 агент который всегда отдаёт ножницы"
      ],
      "metadata": {
        "id": "-jXJE8lDOAsb"
      }
    },
    {
      "cell_type": "code",
      "source": [
        "%%writefile agent_scissors.py\n",
        "# 3 агент который всегда отдаёт ножницы\n",
        "def agent_scissors(observation, configuration):\n",
        "    return 2"
      ],
      "metadata": {
        "id": "Uei0VLQjOCe_",
        "colab": {
          "base_uri": "https://localhost:8080/"
        },
        "outputId": "cc168444-4eec-48ad-fd03-ec737f4d503e"
      },
      "execution_count": 5,
      "outputs": [
        {
          "output_type": "stream",
          "name": "stdout",
          "text": [
            "Writing agent_scissors.py\n"
          ]
        }
      ]
    },
    {
      "cell_type": "markdown",
      "source": [
        "4 агент отдаёт результат как разницу предыдущего хода себя и оппонента или 0"
      ],
      "metadata": {
        "id": "poPQFwmHOKHg"
      }
    },
    {
      "cell_type": "code",
      "source": [
        "%%writefile agent_last_action_minus_opponent_agent_action.py\n",
        "# 4 агент отдаёт результат как разницу предыдущего хода себя и оппонента  или 0\n",
        "def agent_last_action_minus_opponent_agent_action(observation, configuration):\n",
        "    if observation.step > 0:\n",
        "        return abs(observation.lastAction - observation.lastOpponentAction)\n",
        "    else:\n",
        "        return 0"
      ],
      "metadata": {
        "id": "kuddaRSyOLLk",
        "colab": {
          "base_uri": "https://localhost:8080/"
        },
        "outputId": "e3109324-ffe8-41af-8352-763238bc8676"
      },
      "execution_count": 6,
      "outputs": [
        {
          "output_type": "stream",
          "name": "stdout",
          "text": [
            "Writing agent_last_action_minus_opponent_agent_action.py\n"
          ]
        }
      ]
    },
    {
      "cell_type": "markdown",
      "source": [
        "5 агент отдаёт своё предыдущее действие со сдвигом на 1  или 0"
      ],
      "metadata": {
        "id": "OOILBMoZOOoe"
      }
    },
    {
      "cell_type": "code",
      "source": [
        "%%writefile agent_mirror_shift_1.py\n",
        "# 5 агент отдаёт своё предыдущее действие со сдвигом на 1 или 0\n",
        "def agent_mirror_shift_1(observation, configuration):\n",
        "    if observation.step > 0:\n",
        "        return (observation.lastAction + 1) % 3\n",
        "    else:\n",
        "        return 0"
      ],
      "metadata": {
        "id": "QO5WOiVoOPL5",
        "colab": {
          "base_uri": "https://localhost:8080/"
        },
        "outputId": "26b56ea8-b013-4bea-f47f-5694396f2afa"
      },
      "execution_count": 7,
      "outputs": [
        {
          "output_type": "stream",
          "name": "stdout",
          "text": [
            "Writing agent_mirror_shift_1.py\n"
          ]
        }
      ]
    },
    {
      "cell_type": "markdown",
      "source": [
        "6 агент отдаёт своё предыдущее действие со сдвигом на 2 или 0"
      ],
      "metadata": {
        "id": "dDvDq1XEOYWj"
      }
    },
    {
      "cell_type": "code",
      "source": [
        "%%writefile agent_mirror_shift_2.py\n",
        "# 6 агент отдаёт своё предыдущее действие со сдвигом на 2 или 0\n",
        "def agent_mirror_shift_2(observation, configuration):\n",
        "    if observation.step > 0:\n",
        "        return (observation.lastAction + 2) % 3\n",
        "    else:\n",
        "        return 0"
      ],
      "metadata": {
        "id": "iukFHGd7OZQE",
        "colab": {
          "base_uri": "https://localhost:8080/"
        },
        "outputId": "038a7de8-ea2f-4d71-e5f7-7ac1720d180a"
      },
      "execution_count": 8,
      "outputs": [
        {
          "output_type": "stream",
          "name": "stdout",
          "text": [
            "Writing agent_mirror_shift_2.py\n"
          ]
        }
      ]
    },
    {
      "cell_type": "markdown",
      "source": [
        "7 агент копирует предыдущее действие оппонента или 0"
      ],
      "metadata": {
        "id": "WV_Lj4WHOkU3"
      }
    },
    {
      "cell_type": "code",
      "source": [
        "%%writefile agent_mirror_opponent.py\n",
        "# 7 агент копирует предыдущее действие оппонента или 0\n",
        "def agent_mirror_opponent(observation, configuration):\n",
        "    if observation.step > 0:\n",
        "        return (observation.lastOpponentAction)\n",
        "    else:\n",
        "        return 0"
      ],
      "metadata": {
        "id": "VV3VFxBLOk5o",
        "colab": {
          "base_uri": "https://localhost:8080/"
        },
        "outputId": "f6c84e92-1506-45a8-be96-3238bc215749"
      },
      "execution_count": 9,
      "outputs": [
        {
          "output_type": "stream",
          "name": "stdout",
          "text": [
            "Writing agent_mirror_opponent.py\n"
          ]
        }
      ]
    },
    {
      "cell_type": "markdown",
      "source": [
        "8  агент копирует предыдущее действие оппонента со сдвигом на 1 или 0"
      ],
      "metadata": {
        "id": "KSfMKtwGOoEp"
      }
    },
    {
      "cell_type": "code",
      "source": [
        "%%writefile agent_mirror_opponent_shift_1.py\n",
        "# 8 агент копирует предыдущее действие оппонента со сдвигом на 1 или 0\n",
        "def agent_mirror_opponent_shift_1(observation, configuration):\n",
        "    if observation.step > 0:\n",
        "        return (observation.lastOpponentAction + 1) % 3\n",
        "    else:\n",
        "        return 0"
      ],
      "metadata": {
        "id": "krdNfKupOoYv",
        "colab": {
          "base_uri": "https://localhost:8080/"
        },
        "outputId": "c17422d9-5ced-43ad-8f77-4fbd328fa295"
      },
      "execution_count": 10,
      "outputs": [
        {
          "output_type": "stream",
          "name": "stdout",
          "text": [
            "Writing agent_mirror_opponent_shift_1.py\n"
          ]
        }
      ]
    },
    {
      "cell_type": "markdown",
      "source": [
        "9 агент копирует предыдущее действие оппонента со сдвигом на 2 или 0"
      ],
      "metadata": {
        "id": "EGuiAyCOOq6F"
      }
    },
    {
      "cell_type": "code",
      "source": [
        "%%writefile agent_mirror_opponent_shift_2.py\n",
        "# 9 агент копирует предыдущее действие оппонента со сдвигом на 2 или 0\n",
        "def agent_mirror_opponent_shift_2(observation, configuration):\n",
        "    if observation.step > 0:\n",
        "        return (observation.lastOpponentAction + 2) % 3\n",
        "    else:\n",
        "        return 0"
      ],
      "metadata": {
        "id": "W3MV0Q55OrOs",
        "colab": {
          "base_uri": "https://localhost:8080/"
        },
        "outputId": "2d4f6999-3f2a-4d17-c581-65d56a555f78"
      },
      "execution_count": 11,
      "outputs": [
        {
          "output_type": "stream",
          "name": "stdout",
          "text": [
            "Writing agent_mirror_opponent_shift_2.py\n"
          ]
        }
      ]
    },
    {
      "cell_type": "markdown",
      "source": [
        "10 агент отдаёт псевдо случайное число"
      ],
      "metadata": {
        "id": "S8FZfqEGOtrp"
      }
    },
    {
      "cell_type": "code",
      "source": [
        "%%writefile agent_random.py\n",
        "\n",
        "import random\n",
        "# 10 агент отдаёт псевдо случайное число\n",
        "def agent_random(observation, configuration):\n",
        "    return random.randint(0, 2)"
      ],
      "metadata": {
        "id": "xG5viS1UOt9f",
        "colab": {
          "base_uri": "https://localhost:8080/"
        },
        "outputId": "6a01ab31-dacd-4ca8-f4e8-88f1919bd1a2"
      },
      "execution_count": 12,
      "outputs": [
        {
          "output_type": "stream",
          "name": "stdout",
          "text": [
            "Writing agent_random.py\n"
          ]
        }
      ]
    },
    {
      "cell_type": "markdown",
      "source": [
        "11 агент отдаёт своё предыдущее действие со сдвигом назад на 1 или 1"
      ],
      "metadata": {
        "id": "gy6A1TtnOws5"
      }
    },
    {
      "cell_type": "code",
      "source": [
        "%%writefile agent_backward_shift_1.py\n",
        "# 11 агент отдаёт своё предыдущее действие со сдвигом назад на 1 или 1\n",
        "def agent_backward_shift_1(observation, configuration):\n",
        "    if observation.step > 0:\n",
        "        return (abs(observation.lastAction - 1)) % 3\n",
        "    else:\n",
        "        return 1"
      ],
      "metadata": {
        "id": "wrkCSkDfOxCp",
        "colab": {
          "base_uri": "https://localhost:8080/"
        },
        "outputId": "95fb87c2-be8c-463c-92c4-bd1df00a2a96"
      },
      "execution_count": 13,
      "outputs": [
        {
          "output_type": "stream",
          "name": "stdout",
          "text": [
            "Writing agent_backward_shift_1.py\n"
          ]
        }
      ]
    },
    {
      "cell_type": "markdown",
      "source": [
        "12 агент отдаёт своё предыдущее действие со сдвигом назад на 2 или 1"
      ],
      "metadata": {
        "id": "7jYP3634Kd8Z"
      }
    },
    {
      "cell_type": "code",
      "source": [
        "%%writefile agent_backward_shift_2.py\n",
        "# 12 агент отдаёт своё предыдущее действие со сдвигом назад на 2 или 1\n",
        "def agent_backward_shift_2(observation, configuration):\n",
        "    if observation.step > 0:\n",
        "        return (abs(observation.lastAction - 2)) % 3\n",
        "    else:\n",
        "        return 1"
      ],
      "metadata": {
        "colab": {
          "base_uri": "https://localhost:8080/"
        },
        "id": "-4tbpTYfKaFJ",
        "outputId": "3e647e2a-a00b-4f79-8b51-d4e1665289c2"
      },
      "execution_count": 14,
      "outputs": [
        {
          "output_type": "stream",
          "name": "stdout",
          "text": [
            "Writing agent_backward_shift_2.py\n"
          ]
        }
      ]
    },
    {
      "cell_type": "markdown",
      "source": [
        "13 агент отдаёт псевдо случайное число деля полученое случайным образом на другое случайное число, пока не получится результат входящий и 0,1,2"
      ],
      "metadata": {
        "id": "dmjfauSdLhMr"
      }
    },
    {
      "cell_type": "code",
      "source": [
        "%%writefile agent_random_1000.py\n",
        "\n",
        "import random\n",
        "# 13 агент отдаёт псевдо случайное число деля полученое случайным образом на другое случайное число, пока не получится результат входящий и 0,1,2\n",
        "def agent_random_1000(observation, configuration):\n",
        "    rand = random.randint(0, 1000)\n",
        "    if rand == 0:\n",
        "        return 0\n",
        "    while rand > 3:\n",
        "        rand = rand / random.randint(1, 3)\n",
        "    return int(rand)"
      ],
      "metadata": {
        "colab": {
          "base_uri": "https://localhost:8080/"
        },
        "id": "hq-gLRpNLjLn",
        "outputId": "e2f633fd-204d-4b62-e8a7-8059859ca761"
      },
      "execution_count": 15,
      "outputs": [
        {
          "output_type": "stream",
          "name": "stdout",
          "text": [
            "Writing agent_random_1000.py\n"
          ]
        }
      ]
    },
    {
      "cell_type": "markdown",
      "source": [
        "14 агент отдаёт разницу предыдущего действия оппонента и случайного числа или 0"
      ],
      "metadata": {
        "id": "yaD7VzDaLf2u"
      }
    },
    {
      "cell_type": "code",
      "source": [
        "%%writefile agent_opponent_minus_random.py\n",
        "# 14 агент отдаёт разницу предыдущего действия оппонента и случайного числа или 0\n",
        "def agent_opponent_minus_random(observation, configuration):\n",
        "    if observation.step > 0:\n",
        "        return (observation.lastOpponentAction - random.randint(0, 2)) % 3\n",
        "    else:\n",
        "        return 0"
      ],
      "metadata": {
        "colab": {
          "base_uri": "https://localhost:8080/"
        },
        "id": "1tnSnSSzLnu8",
        "outputId": "fbdb18f7-3ef7-4ee1-b223-0b174d3ce4cc"
      },
      "execution_count": 16,
      "outputs": [
        {
          "output_type": "stream",
          "name": "stdout",
          "text": [
            "Writing agent_opponent_minus_random.py\n"
          ]
        }
      ]
    },
    {
      "cell_type": "markdown",
      "source": [
        "15 агент отдаёт сумму предыдущего действия оппонента и случайного числа или 0"
      ],
      "metadata": {
        "id": "4_rQjKVtL1Xo"
      }
    },
    {
      "cell_type": "code",
      "source": [
        "%%writefile agent_opponent_plus_random.py\n",
        "# 15 агент отдаёт сумму предыдущего действия оппонента и случайного числа или 0\n",
        "def agent_opponent_plus_random(observation, configuration):\n",
        "    if observation.step > 0:\n",
        "        return (observation.lastOpponentAction + random.randint(0, 2)) % 3\n",
        "    else:\n",
        "        return 0"
      ],
      "metadata": {
        "colab": {
          "base_uri": "https://localhost:8080/"
        },
        "id": "7EBZf8JvL5cI",
        "outputId": "b6aa2bdc-2e6d-4e30-a490-4d3a3862ed51"
      },
      "execution_count": 17,
      "outputs": [
        {
          "output_type": "stream",
          "name": "stdout",
          "text": [
            "Writing agent_opponent_plus_random.py\n"
          ]
        }
      ]
    },
    {
      "cell_type": "markdown",
      "source": [
        "совернование.\n",
        "Проводим турнир где соревнуются все со всеми.\n",
        "За победу один балл, поражение и ничья ноль.\n",
        "Кто больше набрал тот победил."
      ],
      "metadata": {
        "id": "ATWtQhLa8Dwa"
      }
    },
    {
      "cell_type": "code",
      "source": [
        "# турнир оформим отдельным классом\n",
        "class Tournament:\n",
        "    # в конструктор передадим список агентов\n",
        "    def __init__(self, agents):\n",
        "        self.__agents = agents\n",
        "        self.__scores = {}\n",
        "    # на всякий случай метод добавляюзий агента\n",
        "    def add_agent(self,agent):\n",
        "        self.__agents.add(agent)\n",
        "    # метод выводящий результат\n",
        "    def display_results(self):\n",
        "        # пробегаемся по списку словарю с результатами и выводим в желаемом формате\n",
        "        for i, key in enumerate(self.__scores):\n",
        "            print(f\"top {i+1} - agent: {key} score: {self.__scores[key]}\")\n",
        "    # определяем победителя\n",
        "    def __get_winner(self, result):\n",
        "      # если результат первого участника никакой, то точно победил второй\n",
        "        if result[0][1] == None:\n",
        "            return None\n",
        "        # если результат второго участника никакой то точно победил первый\n",
        "        elif result[1][1] == None:\n",
        "            return result[0][0]\n",
        "        # если ничья то никто не победил вернём ничего\n",
        "        elif result[0][1] == result[1][1]:\n",
        "            return None\n",
        "        else:\n",
        "            # победил тот кто набрал больше очков\n",
        "            return result[0][0]  if result[0][1] > result[1][1] else result[1][0]\n",
        "    # метод сталкивает двух агентов\n",
        "    def __clash(self,agent_one,agent_two):\n",
        "      # тут используем возможности фреймворка чтобы провести соревнование\n",
        "        result =  evaluate(\n",
        "            \"rps\", #environment to use - no need to change\n",
        "            [agent_one,agent_two], #agents to evaluate\n",
        "            configuration={\"episodeSteps\": 100} #number of episodes\n",
        "            )\n",
        "        # проверяем победил ли первый\n",
        "        return self.__get_winner(((agent_one,result[0][0]),(agent_two,result[0][1])))\n",
        "    # метод запускающий соревнование\n",
        "    def contest(self):\n",
        "        # создаём словарь с участниками , инициируем результаты нулём\n",
        "        scores = {x:0 for x in self.__agents}\n",
        "        # для каждого агента\n",
        "        for i in range(len(self.__agents)):\n",
        "            # агента берём по индексу\n",
        "            agent = self.__agents[i]\n",
        "            # по всем его возможным соперникам, соперника берём как индекс агента плюс один, чтобы лишние разы не бегать по списку.\n",
        "            for j in range(i+1,len(self.__agents)):\n",
        "                # на случай чтобы не выйти за пределы индексов списка агентов.\n",
        "                if j >= len(self.__agents):\n",
        "                    break\n",
        "                enemy = self.__agents[j]\n",
        "                # если это тот же самый агент - пропускаем\n",
        "                if agent == enemy:\n",
        "                    continue\n",
        "                    # сталкиваем двух агентов и получаем победителя\n",
        "                winner = self.__clash(agent, enemy)\n",
        "                # если есть победитель, тоесть результат не был ничьёй, добавляем в словарь с результатами\n",
        "                if winner != None:\n",
        "                    scores[winner] += 1\n",
        "        else:\n",
        "            # проведя соревнование сортируем результаты чтобы определить места в турнирной таблице\n",
        "            self.__scores = dict(sorted(scores.items(), key=lambda item: item[1],reverse=True))\n",
        "\n",
        "# создаём список соревнующихся агентов\n",
        "agents = [\n",
        "    \"agent_stone.py\",\n",
        "    \"agent_paper.py\",\n",
        "    \"agent_scissors.py\",\n",
        "    \"agent_last_action_minus_opponent_agent_action.py\",\n",
        "    \"agent_mirror_shift_1.py\",\n",
        "    \"agent_mirror_shift_2.py\",\n",
        "    \"agent_mirror_opponent.py\",\n",
        "    \"agent_mirror_opponent_shift_1.py\",\n",
        "    \"agent_mirror_opponent_shift_2.py\",\n",
        "    \"agent_random.py\",\n",
        "    \"agent_backward_shift_1.py\",\n",
        "    \"agent_backward_shift_2.py\",\n",
        "    \"agent_random_1000.py\",\n",
        "    \"agent_opponent_minus_random.py\",\n",
        "    \"agent_opponent_plus_random.py\",\n",
        "]\n",
        "\n",
        "\n",
        "# создаём турнир\n",
        "tournament=Tournament(agents)\n",
        "#  проводим турнир\n",
        "tournament.contest()\n",
        "# выводим результат\n",
        "tournament.display_results()\n"
      ],
      "metadata": {
        "colab": {
          "base_uri": "https://localhost:8080/"
        },
        "id": "0SBNER358DBP",
        "outputId": "ae2c41eb-4c68-4053-ec90-0dcba41e5165"
      },
      "execution_count": 22,
      "outputs": [
        {
          "output_type": "stream",
          "name": "stdout",
          "text": [
            "top 1 - agent: agent_paper.py score: 10\n",
            "top 2 - agent: agent_scissors.py score: 10\n",
            "top 3 - agent: agent_stone.py score: 9\n",
            "top 4 - agent: agent_mirror_opponent_shift_1.py score: 9\n",
            "top 5 - agent: agent_mirror_opponent.py score: 5\n",
            "top 6 - agent: agent_mirror_opponent_shift_2.py score: 5\n",
            "top 7 - agent: agent_random.py score: 4\n",
            "top 8 - agent: agent_random_1000.py score: 2\n",
            "top 9 - agent: agent_last_action_minus_opponent_agent_action.py score: 0\n",
            "top 10 - agent: agent_mirror_shift_1.py score: 0\n",
            "top 11 - agent: agent_mirror_shift_2.py score: 0\n",
            "top 12 - agent: agent_backward_shift_1.py score: 0\n",
            "top 13 - agent: agent_backward_shift_2.py score: 0\n",
            "top 14 - agent: agent_opponent_minus_random.py score: 0\n",
            "top 15 - agent: agent_opponent_plus_random.py score: 0\n"
          ]
        }
      ]
    }
  ]
}